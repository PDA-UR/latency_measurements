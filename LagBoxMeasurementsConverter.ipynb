{
 "cells": [
  {
   "cell_type": "markdown",
   "metadata": {},
   "source": [
    "# LagBox Measurements Converter"
   ]
  },
  {
   "cell_type": "markdown",
   "metadata": {},
   "source": [
    "### Existing fields\n",
    "\n",
    "#Mode:;3\n",
    "#Device:;6312kw\n",
    "#Button:;21\n",
    "#minDelay:;100\n",
    "#maxDelay:;10000\n",
    "#iterations:;1000\n",
    "\n",
    "\n",
    "### New fields to add\n",
    "#author:;\n",
    "#vendorId:;\n",
    "#productId:;\n",
    "#date:;\n",
    "#bInterval:;\n",
    "#deviceType:;\n",
    "#email:;\n",
    "#public:;\n",
    "#notes:;\n",
    "#EAN:;\n",
    "#deviceSpeed:;\n",
    "\n",
    "### Existing fields to rename\n",
    "#Mode:;   ---->     #deviceType:;"
   ]
  },
  {
   "cell_type": "markdown",
   "metadata": {},
   "source": [
    "## Imports"
   ]
  },
  {
   "cell_type": "code",
   "execution_count": 1,
   "metadata": {},
   "outputs": [],
   "source": [
    "import os\n",
    "import csv"
   ]
  },
  {
   "cell_type": "markdown",
   "metadata": {},
   "source": [
    "## Constants"
   ]
  },
  {
   "cell_type": "code",
   "execution_count": 15,
   "metadata": {},
   "outputs": [],
   "source": [
    "PATH_MEASUREMENTS = 'default_polling_test/'\n",
    "ADDITIONAL_METADATA_FIELDS = ['#author:;',\n",
    "                              '#vendorId:;',\n",
    "                              '#productId:;',\n",
    "                              '#date:;',\n",
    "                              '#bInterval:;',\n",
    "                              '#deviceType:;',\n",
    "                              '#email:;',\n",
    "                              '#public:;',\n",
    "                              '#notes:Converted logfile from old format to new format -VM;',\n",
    "                              '#EAN:;',\n",
    "                              '#deviceSpeed:;']\n",
    "\n",
    "DEVICE_NAMES ={\"6312kw\" : \"Acer 6312-KW (PS/2)\", \"adns5700\" : \"Microsoft Optical Mouse 200\", \"apple1152\" : \"Apple A1152\",\n",
    "               \"arduino\" : \"Arduino Micro\",\"bt58\" : \"Logitech Premium Optical Wheel Mouse\",\n",
    "               \"diamondback\" : \"Razor Diamondback\",\"dragonrise_black\" : \"Speedlink Strike (Black)\",\n",
    "               \"dragonrise_green\" : \"Speedlink Strike (Green)\", \"dualshock3_wired\" : \"Sony Dualshock 3\",\n",
    "               \"dualshock4_wired\" : \"Sony Dualshock 4\", \"dualshock4_wireless\" : \"Sony Dualshock 4 wireless\",\n",
    "               \"exxter\" : \"Exxter KE-200\", \"g15\" : \"Logitech G15\", \"g300\" : \"Logitech G300\", \"g5\" : \"Logitech G5\",\n",
    "               \"g9\" : \"Logitech G9\",\"g700_wired\" : \"Logitech G700\", \"g700_wireless\" : \"Logitech G700\", \"gembird\" : \"Gembird\", \n",
    "               \"intelli_new\" : \"Microsoft Intellimouse\", \"intelli_og\" : \"Microsoft Classic Intellimouse (PS/2)\", \n",
    "               \"k120\" : \"Logitech K120\", \"logilink0043\" : \"LogiLink ID0043\", \"nixdorf\" : \"Siemens Nixdorf (PS/2)\", \n",
    "               \"nvidiashield\" : \"nVidia Shield Gamepad\", \"nvidiashield_wireless\" : \"nVidia Shield Gamepad wireless\", \"px1800\" : \"PX-1800\",\n",
    "               \"rapoo\" : \"Rapoo 6010B\", \"rival\" : \"Steel Series Rival Optical Mouse\", \"roccat\" : \"Roccat ISKU FX\",\n",
    "               \"rx250\" : \"Logitech RX250\", \"sigma\" : \"Sigma\", \"sk9620\" : \"Acer SK-9620 (PS/2)\", \"sunplus\" : \"MS-TECH Laser Game Mouse\",\n",
    "               \"tramani_wired\" : \"Tramani CT-P3000\", \"trust_oni_wireless\" : \"Trust Oni Wireless Micro Mouse\",\n",
    "               \"unicomp\" : \"Unicomp Endura Pro\", \"wingman\" : \"Logitech Wingman\", \"xbox360_wired\" : \"XBox 360\",\n",
    "               \"xbox360_wireless\" : \"XBox 360 wireless\", \"xboxone_wireless\" : \"XBox One Controller wireless\"}\n",
    "\n",
    "#TODO xbox360_wired polling rate\n",
    "POLLING_RATES = {\"6312kw\" : 10, \"adns5700\" : 10, \"apple1152\" : 10, \"arduino\" : 1, \n",
    "                 \"bt58\" : 10, \"diamondback\" : 10, \"dragonrise_black\" : 10, \"dragonrise_green\" : 10, \n",
    "                 \"dualshock3_wired\" : 1, \"dualshock4_wired\" : 5, \"dualshock4_wireless\" : -1, \"exxter\" : 10, \n",
    "                 \"g15\" : 24, \"g300\" : 1, \"g5\" : 1, \"g9\": 10, \"g700_wired\" : 1, \"g700_wireless\" : -1, \"gembird\" : 10, \n",
    "                 \"intelli_new\" : 1, \"intelli_og\" : 10, \"k120\" : 10, \"logilink0043\" : 10, \"nixdorf\" : 10, \n",
    "                 \"nvidiashield\" : 1, \"nvidiashield_wireless\" : -1, \"px1800\" : 10, \"rapoo\" : -1, \"rival\" : 1, \n",
    "                 \"roccat\" : 1, \"rx250\" : 10, \"sigma\" : 10, \"sk9620\" : 10, \"sunplus\" : 10, \n",
    "                 \"tramani_wired\" : 10, \"trust_oni_wireless\" : 10, \"unicomp\" : 10, \"wingman\" : 10, \n",
    "                 \"xbox360_wired\" : 4, \"xbox360_wireless\" : 4, \"xboxone_wireless\" : -1}"
   ]
  },
  {
   "cell_type": "markdown",
   "metadata": {},
   "source": [
    "## Helper functions\n"
   ]
  },
  {
   "cell_type": "code",
   "execution_count": 32,
   "metadata": {},
   "outputs": [],
   "source": [
    "def get_device_name(file):\n",
    "    file = file.replace('.csv', '')\n",
    "    file_name_parts = file.split('_')\n",
    "    device_name = file.replace(file_name_parts[0] + '_', '')\n",
    "    device_name = device_name.replace('_' + file_name_parts[-1], '')\n",
    "    device_name = device_name.replace('_' + file_name_parts[-2], '')\n",
    "    print(\"Extracted device name:\", device_name)\n",
    "    return device_name\n",
    "\n",
    "\n",
    "# Modifiy metadata\n",
    "def modify_metadata(comment_lines, file, device_name, polling_rate):\n",
    "    print(\"Modifing metadata\", file)\n",
    "    for entry in ADDITIONAL_METADATA_FIELDS:\n",
    "        comment_lines.append(entry)\n",
    "    \n",
    "    print(\"Current: \", comment_lines)\n",
    "    for i in range(len(comment_lines)):\n",
    "        if \"#Mode:;\" in comment_lines[i]:\n",
    "            comment_lines[i] = comment_lines[i].replace('Mode', 'deviceType')\n",
    "        \n",
    "        if \"#bInterval:;\" in comment_lines[i]:\n",
    "            print(\"Appending polling rate\")\n",
    "            comment_lines[i] = comment_lines[i].replace('\\n', '') + str(polling_rate) + 'ms' + '\\n'\n",
    "        \n",
    "        if \"#Device:;\" in comment_lines[i]:\n",
    "            comment_lines[i] = comment_lines[i].replace('\\n', '').replace(file, '') + device_name + '\\n'\n",
    "    \n",
    "    return comment_lines\n",
    "\n",
    "# create modified version of file\n",
    "def recreate_file(file, comment_lines, measurement_lines):\n",
    "        print(\"Recreating file\")\n",
    "        print(comment_lines)\n",
    "        \n",
    "        with open(PATH_MEASUREMENTS + file, 'w') as f:\n",
    "            writer = csv.writer(f)\n",
    "            for comment in comment_lines:\n",
    "                print(comment)\n",
    "                writer.writerow([comment.replace('\\n', '')])\n",
    "            writer.writerow([])  # Add an empty line\n",
    "            writer.writerow(['counter;latency;delayTime'])\n",
    "            for measurement in measurement_lines:\n",
    "                writer.writerow([measurement.replace('\\n', '')])"
   ]
  },
  {
   "cell_type": "markdown",
   "metadata": {},
   "source": [
    "## Read in csv"
   ]
  },
  {
   "cell_type": "code",
   "execution_count": 33,
   "metadata": {
    "scrolled": false
   },
   "outputs": [
    {
     "name": "stdout",
     "output_type": "stream",
     "text": [
      "AUTO_6312kw_0ms_1.csv\n",
      "Extracted device name: 6312kw\n",
      "Acer 6312-KW (PS/2) 10\n",
      "AUTO_6312kw_0ms_1.csv\n",
      "Modifing metadata 6312kw\n",
      "Current:  ['#Mode:;3\\n', '#Device:;6312kw\\n', '#Button:;21\\n', '#minDelay:;100\\n', '#maxDelay:;10000\\n', '#iterations:;1000\\n', '#author:;', '#vendorId:;', '#productId:;', '#date:;', '#bInterval:;', '#deviceType:;', '#email:;', '#public:;', '#notes:Converted logfile from old format to new format -VM;', '#EAN:;', '#deviceSpeed:;']\n",
      "Appending polling rate\n",
      "Recreating file\n",
      "['#deviceType:;3\\n', '#Device:;Acer 6312-KW (PS/2)\\n', '#Button:;21\\n', '#minDelay:;100\\n', '#maxDelay:;10000\\n', '#iterations:;1000\\n', '#author:;', '#vendorId:;', '#productId:;', '#date:;', '#bInterval:;10ms\\n', '#deviceType:;', '#email:;', '#public:;', '#notes:Converted logfile from old format to new format -VM;', '#EAN:;', '#deviceSpeed:;']\n",
      "#deviceType:;3\n",
      "\n",
      "#Device:;Acer 6312-KW (PS/2)\n",
      "\n",
      "#Button:;21\n",
      "\n",
      "#minDelay:;100\n",
      "\n",
      "#maxDelay:;10000\n",
      "\n",
      "#iterations:;1000\n",
      "\n",
      "#author:;\n",
      "#vendorId:;\n",
      "#productId:;\n",
      "#date:;\n",
      "#bInterval:;10ms\n",
      "\n",
      "#deviceType:;\n",
      "#email:;\n",
      "#public:;\n",
      "#notes:Converted logfile from old format to new format -VM;\n",
      "#EAN:;\n",
      "#deviceSpeed:;\n",
      "\n",
      "\n"
     ]
    }
   ],
   "source": [
    "for file in os.listdir(PATH_MEASUREMENTS): \n",
    "    print(file)\n",
    "    \n",
    "    comment_lines = []  # All lines containing a comment (==> Metadata about the measurement)\n",
    "    measurement_lines = []  # All lines containing actual measurement data\n",
    "    \n",
    "    device_name = get_device_name(file)\n",
    "    present_device_name = device_name\n",
    "    \n",
    "    if (file.split('_')[-2] == '1ms'):\n",
    "        polling_rate = 1\n",
    "    else:\n",
    "        polling_rate = 0\n",
    "        try:\n",
    "            polling_rate = POLLING_RATES[device_name]\n",
    "        except:\n",
    "            print('Could not get Polling rate')\n",
    "\n",
    "    try:\n",
    "        device_name = DEVICE_NAMES[device_name]\n",
    "    except:\n",
    "        print(device_name)\n",
    "        \n",
    "    print(device_name, polling_rate)\n",
    "    \n",
    "    \n",
    "    print(file)\n",
    "    current_file = open(PATH_MEASUREMENTS + file, 'r').readlines()  # Open the csv File\n",
    "    for i in range(len(current_file)):\n",
    "        if current_file[i][0] is '#':  # If row is a comment\n",
    "            # print(line)\n",
    "            comment_lines.append(current_file[i])\n",
    "        elif current_file[i] == 'counter;latency;delayTime\\n':  # If row is header of measurements\n",
    "            measurement_lines = current_file[i + 1:len(current_file)]\n",
    "            break\n",
    "\n",
    "    comment_lines = modify_metadata(comment_lines, present_device_name, device_name, polling_rate)\n",
    "    \n",
    "    recreate_file(file, comment_lines, measurement_lines)\n",
    "    \n",
    "    print('\\n')"
   ]
  },
  {
   "cell_type": "code",
   "execution_count": null,
   "metadata": {},
   "outputs": [],
   "source": []
  }
 ],
 "metadata": {
  "kernelspec": {
   "display_name": "Python 3",
   "language": "python",
   "name": "python3"
  },
  "language_info": {
   "codemirror_mode": {
    "name": "ipython",
    "version": 3
   },
   "file_extension": ".py",
   "mimetype": "text/x-python",
   "name": "python",
   "nbconvert_exporter": "python",
   "pygments_lexer": "ipython3",
   "version": "3.7.3"
  }
 },
 "nbformat": 4,
 "nbformat_minor": 2
}
